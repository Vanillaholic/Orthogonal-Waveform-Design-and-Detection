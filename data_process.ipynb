{
 "cells": [
  {
   "cell_type": "markdown",
   "metadata": {},
   "source": [
    "### 继MATLAB之后，对生成的数据进行处理"
   ]
  },
  {
   "cell_type": "code",
   "execution_count": 40,
   "metadata": {},
   "outputs": [
    {
     "name": "stdout",
     "output_type": "stream",
     "text": [
      "0.10.2.post1\n"
     ]
    }
   ],
   "source": [
    "import numpy as np\n",
    "import pandas as pd\n",
    "import matplotlib.pyplot as plt\n",
    "import librosa as lb\n",
    "print(lb.__version__)"
   ]
  },
  {
   "cell_type": "code",
   "execution_count": 43,
   "metadata": {},
   "outputs": [],
   "source": [
    "'''读取数据'''\n",
    "import os\n",
    "path = './audios'\n",
    "direct_path = os.path.join(path, 'costas_cw_pulse_direct.wav')\n",
    "shad_1st_path, convg_1st_path = os.path.join(path, 'costas_cw_pulse_1st_shadow.wav'), os.path.join(path, 'costas_cw_pulse_1st_convergence.wav')\n",
    "shad_2nd_path, convg_2nd_path  = os.path.join(path, 'costas_cw_pulse_2nd_shadow.wav'), os.path.join(path, 'costas_cw_pulse_2nd_convergence.wav')\n",
    "shad_3rd_path, convg_3rd_path = os.path.join(path, 'costas_cw_pulse_3rd_shadow.wav'), os.path.join(path, 'costas_cw_pulse_3rd_convergence.wav')\n",
    "\n",
    "shad_1st_echo ,sr= lb.load(shad_1st_path,sr=None, mono=True, offset=0.0, duration=None)\n",
    "convg_1st_echo ,sr= lb.load(convg_1st_path,sr=None, mono=True, offset=0.0, duration=None)\n",
    "convg_1st_echo,shad_1st_echo = np.array(convg_1st_echo), np.array(shad_1st_echo)\n",
    "\n",
    "shad_2nd_echo ,sr= lb.load(shad_2nd_path,sr=None, mono=True, offset=0.0, duration=None)\n",
    "convg_2nd_echo ,sr= lb.load(convg_2nd_path,sr=None, mono=True, offset=0.0, duration=None)\n",
    "convg_2nd_echo,shad_2nd_echo = np.array(convg_2nd_echo), np.array(shad_2nd_echo)\n",
    "\n",
    "shad_3rd_echo ,sr= lb.load(shad_3rd_path,sr=None, mono=True, offset=0.0, duration=None)\n",
    "convg_3rd_echo ,sr= lb.load(convg_3rd_path,sr=None, mono=True, offset=0.0, duration=None)\n",
    "convg_3rd_echo,shad_3rd_echo = np.array(convg_3rd_echo), np.array(shad_3rd_echo)\n"
   ]
  },
  {
   "cell_type": "code",
   "execution_count": null,
   "metadata": {},
   "outputs": [
    {
     "name": "stdout",
     "output_type": "stream",
     "text": [
      "<class 'numpy.ndarray'>\n"
     ]
    }
   ],
   "source": [
    "print(type(convg_1st_echo))\n",
    "#sig = lb.resample(y=convg_1st_echo, orig_sr=sr, target_sr=200) \n"
   ]
  },
  {
   "cell_type": "code",
   "execution_count": 58,
   "metadata": {},
   "outputs": [
    {
     "data": {
      "image/png": "[encoded data removed]",
      "text/plain": [
       "<Figure size 640x480 with 1 Axes>"
      ]
     },
     "metadata": {},
     "output_type": "display_data"
    }
   ],
   "source": [
    "sr = lb.get_samplerate(os.path.join(path, 'costas_cw_pulse_1st_shadow.wav'))\n",
    "# 手动生成时间轴\n",
    "# time = np.arange(0, len(sig)) / sr  # 时间轴，单位为秒\n",
    "# # 增加 agg.path.chunksize\n",
    "# plt.rcParams['agg.path.chunksize'] = 10000  # 设置为 10000 或更大的值\n",
    "# # 增加路径简化阈值\n",
    "# plt.rcParams['path.simplify_threshold'] = 0.5  # 默认值是 0.111111，增大到 0.5 或更高\n",
    "lb.display.waveshow(convg_1st_echo, sr=sr)\n",
    "plt.title('Audio Waveform')\n",
    "plt.xlabel('Time (s)')\n",
    "plt.ylabel('Amplitude')\n",
    "plt.ylim(-1, 1)\n",
    "plt.grid(True)\n",
    "plt.show()"
   ]
  },
  {
   "cell_type": "code",
   "execution_count": 96,
   "metadata": {},
   "outputs": [],
   "source": [
    "frame_length ,hop_length =2048, 512\n",
    "# 分帧操作\n",
    "# 对音频数据进行填充（必要步骤，可确保分帧完整）\n",
    "padded_y = np.pad(convg_1st_echo, (frame_length // 2, frame_length // 2), mode='reflect')\n",
    "#进行分帧\n",
    "frames = lb.util.frame(padded_y, frame_length=frame_length, hop_length=hop_length)\n",
    "# 计算每帧的能量\n",
    "frame_energies = np.sum(np.abs(frames) ** 2, axis=0)\n",
    "#读取过零率\n",
    "zcrs = lb.feature.zero_crossing_rate(padded_y, frame_length = frame_length, hop_length = hop_length, center = True) "
   ]
  },
  {
   "cell_type": "code",
   "execution_count": 99,
   "metadata": {},
   "outputs": [
    {
     "name": "stdout",
     "output_type": "stream",
     "text": [
      "帧数：1954\n",
      "第一帧过零率：0.564453125\n",
      "[620, 621, 622, 623, 624, 625, 626, 627]\n",
      "脉冲起始位置：162211.84s，脉冲终止位置：164043.264s\n"
     ]
    }
   ],
   "source": [
    "#frames的每一列为一帧\n",
    "print(f\"帧数：{len(frames[0])}\")\n",
    "print(f\"第一帧过零率：{zcrs[0,1]}\")\n",
    "max_zcr = max(zcrs[0])\n",
    "max_energy = max(frame_energies)\n",
    "vad_idx1,vad_idx2 = [],[]\n",
    "for i,energy in enumerate(frame_energies):\n",
    "    if energy >= 0.4*max_energy:\n",
    "        vad_idx1.append(i)\n",
    "for i,zcr in enumerate(zcrs[0]):\n",
    "    if zcr >= 0.4*max_zcr:\n",
    "        vad_idx2.append(i)\n",
    "print(vad_idx1)\n",
    "pulse_start = vad_idx1[0]*(hop_length-1)*frame_length/sr\n",
    "pulse_end = vad_idx1[-1]*(hop_length-1)*frame_length/sr\n",
    "print(f\"脉冲起始位置：{pulse_start}s，脉冲终止位置：{pulse_end}s\")\n",
    "\n",
    "extracted_frames = [frames[:,i] for i in range(vad_idx1[0],vad_idx1[-1]+1)]"
   ]
  },
  {
   "cell_type": "code",
   "execution_count": 104,
   "metadata": {},
   "outputs": [
    {
     "name": "stdout",
     "output_type": "stream",
     "text": [
      "<class 'list'>\n",
      "<class 'numpy.ndarray'>\n"
     ]
    }
   ],
   "source": [
    "print(type(extracted_frames))\n",
    "extracted_frames = np.array(extracted_frames)\n",
    "print(type(extracted_frames))"
   ]
  },
  {
   "cell_type": "code",
   "execution_count": 111,
   "metadata": {},
   "outputs": [
    {
     "ename": "TypeError",
     "evalue": "fix_length() missing 1 required positional argument: 'data'",
     "output_type": "error",
     "traceback": [
      "\u001b[1;31m---------------------------------------------------------------------------\u001b[0m",
      "\u001b[1;31mTypeError\u001b[0m                                 Traceback (most recent call last)",
      "Cell \u001b[1;32mIn[111], line 1\u001b[0m\n\u001b[1;32m----> 1\u001b[0m reconstructed_signal \u001b[38;5;241m=\u001b[39m \u001b[43mlb\u001b[49m\u001b[38;5;241;43m.\u001b[39;49m\u001b[43mutil\u001b[49m\u001b[38;5;241;43m.\u001b[39;49m\u001b[43mfix_length\u001b[49m\u001b[43m(\u001b[49m\u001b[43my\u001b[49m\u001b[38;5;241;43m=\u001b[39;49m\u001b[43mextracted_frames\u001b[49m\u001b[38;5;241;43m.\u001b[39;49m\u001b[43mflatten\u001b[49m\u001b[43m(\u001b[49m\u001b[43m)\u001b[49m\u001b[43m,\u001b[49m\u001b[43m \u001b[49m\u001b[43mlength\u001b[49m\u001b[38;5;241;43m=\u001b[39;49m\u001b[43m(\u001b[49m\u001b[43mvad_idx1\u001b[49m\u001b[43m[\u001b[49m\u001b[38;5;241;43m-\u001b[39;49m\u001b[38;5;241;43m1\u001b[39;49m\u001b[43m]\u001b[49m\u001b[43m \u001b[49m\u001b[38;5;241;43m-\u001b[39;49m\u001b[43m \u001b[49m\u001b[43mvad_idx1\u001b[49m\u001b[43m[\u001b[49m\u001b[38;5;241;43m0\u001b[39;49m\u001b[43m]\u001b[49m\u001b[43m \u001b[49m\u001b[38;5;241;43m+\u001b[39;49m\u001b[43m \u001b[49m\u001b[38;5;241;43m1\u001b[39;49m\u001b[43m)\u001b[49m\u001b[43m \u001b[49m\u001b[38;5;241;43m*\u001b[39;49m\u001b[43m \u001b[49m\u001b[43mhop_length\u001b[49m\u001b[43m)\u001b[49m\n\u001b[0;32m      2\u001b[0m \u001b[38;5;66;03m# 去除填充部分\u001b[39;00m\n\u001b[0;32m      3\u001b[0m start_index \u001b[38;5;241m=\u001b[39m frame_length \u001b[38;5;241m/\u001b[39m\u001b[38;5;241m/\u001b[39m \u001b[38;5;241m2\u001b[39m \u001b[38;5;241m+\u001b[39m vad_idx1[\u001b[38;5;241m0\u001b[39m] \u001b[38;5;241m*\u001b[39m hop_length\n",
      "\u001b[1;31mTypeError\u001b[0m: fix_length() missing 1 required positional argument: 'data'"
     ]
    }
   ],
   "source": [
    "reconstructed_signal = lb.util.fix_length(y=extracted_frames.flatten(), length=(vad_idx1[-1] - vad_idx1[0] + 1) * hop_length)\n",
    "# 去除填充部分\n",
    "start_index = frame_length // 2 + vad_idx1[0] * hop_length\n",
    "end_index = start_index + (vad_idx1[-1] - vad_idx1[0] + 1) * hop_length - frame_length\n",
    "final_signal = reconstructed_signal[start_index:end_index]"
   ]
  }
 ],
 "metadata": {
  "kernelspec": {
   "display_name": "deeplearning",
   "language": "python",
   "name": "python3"
  },
  "language_info": {
   "codemirror_mode": {
    "name": "ipython",
    "version": 3
   },
   "file_extension": ".py",
   "mimetype": "text/x-python",
   "name": "python",
   "nbconvert_exporter": "python",
   "pygments_lexer": "ipython3",
   "version": "3.10.16"
  }
 },
 "nbformat": 4,
 "nbformat_minor": 2
}
